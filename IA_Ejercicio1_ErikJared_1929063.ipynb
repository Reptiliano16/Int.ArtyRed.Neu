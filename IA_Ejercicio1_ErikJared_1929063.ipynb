{
  "cells": [
    {
      "cell_type": "markdown",
      "metadata": {
        "id": "view-in-github",
        "colab_type": "text"
      },
      "source": [
        "<a href=\"https://colab.research.google.com/github/Reptiliano16/Int.ArtyRed.Neu-1929063/blob/main/IA_Ejercicio1_ErikJared_1929063.ipynb\" target=\"_parent\"><img src=\"https://colab.research.google.com/assets/colab-badge.svg\" alt=\"Open In Colab\"/></a>"
      ]
    },
    {
      "cell_type": "code",
      "execution_count": 39,
      "metadata": {
        "colab": {
          "base_uri": "https://localhost:8080/"
        },
        "id": "5zx4B5mOEOCm",
        "outputId": "bc89c702-b539-43ad-fa7d-236eef679304"
      },
      "outputs": [
        {
          "output_type": "stream",
          "name": "stdout",
          "text": [
            "Introduce tu Nombre: Erik\n",
            "Hola Erik Buenos Dias\n"
          ]
        }
      ],
      "source": [
        "#A2: Ejercicios en Python 1__Erik Jared Garcia Fernandez 1929063 IMTC \n",
        "Nombre = input(\"Introduce tu Nombre: \")\n",
        "if Nombre == \"Ana\" or Nombre == \"Juan\" or Nombre == \"Pedro\":\n",
        "  print(\"Nombre Incorrecto\")\n",
        "\n",
        "else:\n",
        "   print(\"Hola \" + Nombre + \" Buenos Dias\")"
      ]
    },
    {
      "cell_type": "code",
      "source": [
        "#A2: Ejercicios en Python 1__Erik Jared Garcia Fernandez 1929063 IMTC\n",
        "Lista = [\"0\", \"1\", \"2\", \"3\", \"4\", \"5\"]\n",
        "print(Lista[5])\n",
        "rev = list(reversed(Lista))\n",
        "print(rev)"
      ],
      "metadata": {
        "colab": {
          "base_uri": "https://localhost:8080/"
        },
        "id": "iRJIJWTLZqT4",
        "outputId": "01ca6de1-bc37-4501-cea8-54f1768b580b"
      },
      "execution_count": 52,
      "outputs": [
        {
          "output_type": "stream",
          "name": "stdout",
          "text": [
            "5\n",
            "['5', '4', '3', '2', '1', '0']\n"
          ]
        }
      ]
    },
    {
      "cell_type": "code",
      "source": [
        "#A2: Ejercicios en Python 1__Erik Jared Garcia Fernandez 1929063 IMTC\n",
        "Lista = [\"0\", \"1\", \"2\", \"3\", \"4\", \"5\"]\n",
        "\n",
        "linea = '*' * (1 + len(Lista))\n",
        "print(linea)\n",
        "for l in Lista:\n",
        "  print('* ',l,' *')\n",
        "  \n",
        "print(linea)\n",
        "\n"
      ],
      "metadata": {
        "colab": {
          "base_uri": "https://localhost:8080/"
        },
        "id": "Be39apw34T99",
        "outputId": "c5ced5ac-8b71-4cb4-da55-97a9f335dfcb"
      },
      "execution_count": 105,
      "outputs": [
        {
          "output_type": "stream",
          "name": "stdout",
          "text": [
            "*******\n",
            "*  0  *\n",
            "*  1  *\n",
            "*  2  *\n",
            "*  3  *\n",
            "*  4  *\n",
            "*  5  *\n",
            "*******\n"
          ]
        }
      ]
    }
  ],
  "metadata": {
    "colab": {
      "provenance": [],
      "collapsed_sections": [],
      "authorship_tag": "ABX9TyN4tOp4uskOXieihPPKIzju",
      "include_colab_link": true
    },
    "kernelspec": {
      "display_name": "Python 3",
      "name": "python3"
    },
    "language_info": {
      "name": "python"
    }
  },
  "nbformat": 4,
  "nbformat_minor": 0
}